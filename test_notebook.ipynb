{
 "cells": [
  {
   "cell_type": "markdown",
   "id": "123875fb-489c-4879-a105-ec903bc8ba03",
   "metadata": {},
   "source": [
    "# Import"
   ]
  },
  {
   "cell_type": "code",
   "execution_count": 1,
   "id": "ec6d17ae-6965-413f-8879-c74ae90196fe",
   "metadata": {},
   "outputs": [],
   "source": [
    "import pandas as pd\n",
    "from sodapy import Socrata\n",
    "from api_keys import *\n",
    "import datetime"
   ]
  },
  {
   "cell_type": "code",
   "execution_count": 2,
   "id": "eec865dd-d8cd-40d6-895c-b4be4710a9b5",
   "metadata": {},
   "outputs": [],
   "source": [
    "# Unauthenticated client only works with public data sets. Note 'None'\n",
    "# in place of application token, and no username or password:\n",
    "client = Socrata(\"www.dallasopendata.com\", app_token)"
   ]
  },
  {
   "cell_type": "code",
   "execution_count": 3,
   "id": "7771e560-f65d-47e0-932e-90eba56cd680",
   "metadata": {},
   "outputs": [],
   "source": [
    "#grab data from api\n",
    "#sdr7-6v3j is the dataset code from sodapy\n",
    "all_data = client.get_all(\"sdr7-6v3j\")\n",
    "\n",
    "#turn into pandas df\n",
    "data_df = pd.DataFrame.from_records(all_data)"
   ]
  },
  {
   "cell_type": "code",
   "execution_count": 4,
   "id": "6a481420-95e0-4f13-a566-fb5e82c29ce9",
   "metadata": {},
   "outputs": [],
   "source": [
    "data_df.sort_values(by='ararrestdate',ascending=False, inplace=True)"
   ]
  },
  {
   "cell_type": "code",
   "execution_count": 5,
   "id": "3c4366b8-394c-491e-a224-e25c9af179a6",
   "metadata": {
    "tags": []
   },
   "outputs": [],
   "source": [
    "#looking for only certain columns\n",
    "data_df = data_df[['incidentnum', 'arrestnumber', \n",
    "                   'ararrestdate', 'ararresttime', \n",
    "                   'arpremises', 'arladdress', \n",
    "                   'arlzip','sex','drugrelated',\n",
    "                   'drugtype','age']]\n"
   ]
  },
  {
   "cell_type": "code",
   "execution_count": 6,
   "id": "e5331865-3970-4989-a36d-8af182ab02c7",
   "metadata": {},
   "outputs": [
    {
     "data": {
      "text/html": [
       "<div>\n",
       "<style scoped>\n",
       "    .dataframe tbody tr th:only-of-type {\n",
       "        vertical-align: middle;\n",
       "    }\n",
       "\n",
       "    .dataframe tbody tr th {\n",
       "        vertical-align: top;\n",
       "    }\n",
       "\n",
       "    .dataframe thead th {\n",
       "        text-align: right;\n",
       "    }\n",
       "</style>\n",
       "<table border=\"1\" class=\"dataframe\">\n",
       "  <thead>\n",
       "    <tr style=\"text-align: right;\">\n",
       "      <th></th>\n",
       "      <th>incidentnum</th>\n",
       "      <th>arrestnumber</th>\n",
       "      <th>ararrestdate</th>\n",
       "      <th>ararresttime</th>\n",
       "      <th>arpremises</th>\n",
       "      <th>arladdress</th>\n",
       "      <th>arlzip</th>\n",
       "      <th>sex</th>\n",
       "      <th>drugrelated</th>\n",
       "      <th>drugtype</th>\n",
       "      <th>age</th>\n",
       "    </tr>\n",
       "  </thead>\n",
       "  <tbody>\n",
       "    <tr>\n",
       "      <th>937</th>\n",
       "      <td>202924-2022</td>\n",
       "      <td>22-032078</td>\n",
       "      <td>2022-11-09T00:00:00.000</td>\n",
       "      <td>00:30</td>\n",
       "      <td>Outdoor Area Public/Private</td>\n",
       "      <td>1400 E JEFFERSON BLVD</td>\n",
       "      <td>75203</td>\n",
       "      <td>Male</td>\n",
       "      <td>Yes</td>\n",
       "      <td>Methamphetamine</td>\n",
       "      <td>33</td>\n",
       "    </tr>\n",
       "    <tr>\n",
       "      <th>1166</th>\n",
       "      <td>203531-2022</td>\n",
       "      <td>22-032163</td>\n",
       "      <td>2022-11-09T00:00:00.000</td>\n",
       "      <td>23:50</td>\n",
       "      <td>Highway, Street, Alley ETC</td>\n",
       "      <td>100 S MASTERS DR</td>\n",
       "      <td>75217</td>\n",
       "      <td>Female</td>\n",
       "      <td>Yes</td>\n",
       "      <td>Oxycodone</td>\n",
       "      <td>49</td>\n",
       "    </tr>\n",
       "    <tr>\n",
       "      <th>944</th>\n",
       "      <td>203511-2022</td>\n",
       "      <td>22-032161</td>\n",
       "      <td>2022-11-09T00:00:00.000</td>\n",
       "      <td>22:48</td>\n",
       "      <td>Highway, Street, Alley ETC</td>\n",
       "      <td>2100 W NORTHWEST HWY</td>\n",
       "      <td>75220</td>\n",
       "      <td>Male</td>\n",
       "      <td>Yes</td>\n",
       "      <td>Crack Cocaine</td>\n",
       "      <td>48</td>\n",
       "    </tr>\n",
       "  </tbody>\n",
       "</table>\n",
       "</div>"
      ],
      "text/plain": [
       "      incidentnum arrestnumber             ararrestdate ararresttime  \\\n",
       "937   202924-2022    22-032078  2022-11-09T00:00:00.000        00:30   \n",
       "1166  203531-2022    22-032163  2022-11-09T00:00:00.000        23:50   \n",
       "944   203511-2022    22-032161  2022-11-09T00:00:00.000        22:48   \n",
       "\n",
       "                       arpremises             arladdress arlzip     sex  \\\n",
       "937   Outdoor Area Public/Private  1400 E JEFFERSON BLVD  75203    Male   \n",
       "1166   Highway, Street, Alley ETC       100 S MASTERS DR  75217  Female   \n",
       "944    Highway, Street, Alley ETC   2100 W NORTHWEST HWY  75220    Male   \n",
       "\n",
       "     drugrelated         drugtype age  \n",
       "937          Yes  Methamphetamine  33  \n",
       "1166         Yes        Oxycodone  49  \n",
       "944          Yes    Crack Cocaine  48  "
      ]
     },
     "execution_count": 6,
     "metadata": {},
     "output_type": "execute_result"
    }
   ],
   "source": [
    "# reduced to rows with drugrelated = yes or uknown\n",
    "data_df = data_df.loc[((data_df['drugrelated']=='Yes') | (data_df['drugrelated']=='Uknown'))]\n",
    "data_df.head(3)"
   ]
  },
  {
   "cell_type": "code",
   "execution_count": 7,
   "id": "17f4158e-53eb-4459-bf46-e4e86f9f0079",
   "metadata": {},
   "outputs": [
    {
     "data": {
      "text/html": [
       "<div>\n",
       "<style scoped>\n",
       "    .dataframe tbody tr th:only-of-type {\n",
       "        vertical-align: middle;\n",
       "    }\n",
       "\n",
       "    .dataframe tbody tr th {\n",
       "        vertical-align: top;\n",
       "    }\n",
       "\n",
       "    .dataframe thead th {\n",
       "        text-align: right;\n",
       "    }\n",
       "</style>\n",
       "<table border=\"1\" class=\"dataframe\">\n",
       "  <thead>\n",
       "    <tr style=\"text-align: right;\">\n",
       "      <th></th>\n",
       "      <th>incidentnum</th>\n",
       "      <th>arrestnumber</th>\n",
       "      <th>ararrestdate</th>\n",
       "      <th>ararresttime</th>\n",
       "      <th>arpremises</th>\n",
       "      <th>arladdress</th>\n",
       "      <th>arlzip</th>\n",
       "      <th>sex</th>\n",
       "      <th>drugrelated</th>\n",
       "      <th>drugtype</th>\n",
       "      <th>age</th>\n",
       "    </tr>\n",
       "  </thead>\n",
       "  <tbody>\n",
       "    <tr>\n",
       "      <th>937</th>\n",
       "      <td>202924-2022</td>\n",
       "      <td>22-032078</td>\n",
       "      <td>2022-11-09</td>\n",
       "      <td>00:30</td>\n",
       "      <td>Outdoor Area Public/Private</td>\n",
       "      <td>1400 E JEFFERSON BLVD</td>\n",
       "      <td>75203</td>\n",
       "      <td>Male</td>\n",
       "      <td>Yes</td>\n",
       "      <td>Methamphetamine</td>\n",
       "      <td>33</td>\n",
       "    </tr>\n",
       "    <tr>\n",
       "      <th>1166</th>\n",
       "      <td>203531-2022</td>\n",
       "      <td>22-032163</td>\n",
       "      <td>2022-11-09</td>\n",
       "      <td>23:50</td>\n",
       "      <td>Highway, Street, Alley ETC</td>\n",
       "      <td>100 S MASTERS DR</td>\n",
       "      <td>75217</td>\n",
       "      <td>Female</td>\n",
       "      <td>Yes</td>\n",
       "      <td>Oxycodone</td>\n",
       "      <td>49</td>\n",
       "    </tr>\n",
       "    <tr>\n",
       "      <th>944</th>\n",
       "      <td>203511-2022</td>\n",
       "      <td>22-032161</td>\n",
       "      <td>2022-11-09</td>\n",
       "      <td>22:48</td>\n",
       "      <td>Highway, Street, Alley ETC</td>\n",
       "      <td>2100 W NORTHWEST HWY</td>\n",
       "      <td>75220</td>\n",
       "      <td>Male</td>\n",
       "      <td>Yes</td>\n",
       "      <td>Crack Cocaine</td>\n",
       "      <td>48</td>\n",
       "    </tr>\n",
       "    <tr>\n",
       "      <th>1130</th>\n",
       "      <td>203409-2022</td>\n",
       "      <td>22-032136</td>\n",
       "      <td>2022-11-09</td>\n",
       "      <td>18:44</td>\n",
       "      <td>NaN</td>\n",
       "      <td>13000 COIT RD</td>\n",
       "      <td>75240</td>\n",
       "      <td>Male</td>\n",
       "      <td>Uknown</td>\n",
       "      <td>NaN</td>\n",
       "      <td>31</td>\n",
       "    </tr>\n",
       "    <tr>\n",
       "      <th>1112</th>\n",
       "      <td>202764-2022</td>\n",
       "      <td>22-032046</td>\n",
       "      <td>2022-11-08</td>\n",
       "      <td>17:57</td>\n",
       "      <td>Parking Lot (Park)</td>\n",
       "      <td>900 SAN JACINTO ST</td>\n",
       "      <td>75202</td>\n",
       "      <td>Male</td>\n",
       "      <td>Uknown</td>\n",
       "      <td>NaN</td>\n",
       "      <td>20</td>\n",
       "    </tr>\n",
       "  </tbody>\n",
       "</table>\n",
       "</div>"
      ],
      "text/plain": [
       "      incidentnum arrestnumber ararrestdate ararresttime  \\\n",
       "937   202924-2022    22-032078   2022-11-09        00:30   \n",
       "1166  203531-2022    22-032163   2022-11-09        23:50   \n",
       "944   203511-2022    22-032161   2022-11-09        22:48   \n",
       "1130  203409-2022    22-032136   2022-11-09        18:44   \n",
       "1112  202764-2022    22-032046   2022-11-08        17:57   \n",
       "\n",
       "                       arpremises             arladdress arlzip     sex  \\\n",
       "937   Outdoor Area Public/Private  1400 E JEFFERSON BLVD  75203    Male   \n",
       "1166   Highway, Street, Alley ETC       100 S MASTERS DR  75217  Female   \n",
       "944    Highway, Street, Alley ETC   2100 W NORTHWEST HWY  75220    Male   \n",
       "1130                          NaN          13000 COIT RD  75240    Male   \n",
       "1112           Parking Lot (Park)     900 SAN JACINTO ST  75202    Male   \n",
       "\n",
       "     drugrelated         drugtype age  \n",
       "937          Yes  Methamphetamine  33  \n",
       "1166         Yes        Oxycodone  49  \n",
       "944          Yes    Crack Cocaine  48  \n",
       "1130      Uknown              NaN  31  \n",
       "1112      Uknown              NaN  20  "
      ]
     },
     "execution_count": 7,
     "metadata": {},
     "output_type": "execute_result"
    }
   ],
   "source": [
    "#this edits the ararrestdate so it doesn't include the time \n",
    "for index, row in data_df.iterrows():\n",
    "        split = row['ararrestdate'].split('T')\n",
    "        row['ararrestdate'] = split[0]\n",
    "data_df.head()"
   ]
  },
  {
   "cell_type": "code",
   "execution_count": 8,
   "id": "eb17bef0-c117-4bff-a137-7b384b47fd74",
   "metadata": {},
   "outputs": [],
   "source": [
    "#the connecting to sqlite begins\n",
    "import sqlite3"
   ]
  },
  {
   "cell_type": "code",
   "execution_count": 9,
   "id": "bd99b2a1-3118-490b-9ae9-a407babc7434",
   "metadata": {},
   "outputs": [],
   "source": [
    "#connection string\n",
    "conn =sqlite3.connect('test_database')\n",
    "c = conn.cursor()"
   ]
  },
  {
   "cell_type": "code",
   "execution_count": 10,
   "id": "9144aafc-bbdc-4a7f-8a5d-f7333cd8ce52",
   "metadata": {},
   "outputs": [],
   "source": [
    "#creating the table \n",
    "c.execute('CREATE TABLE IF NOT EXISTS crime_test (incidentnum, arrestnumber, ararrestdate, ararresttime, arpremises, arladdress, arlzip, sex, drugrelated, drugtype, age)')\n",
    "conn.commit()"
   ]
  },
  {
   "cell_type": "code",
   "execution_count": 11,
   "id": "730efb25-daec-4076-b845-07aaeec8d308",
   "metadata": {},
   "outputs": [
    {
     "data": {
      "text/plain": [
       "20623"
      ]
     },
     "execution_count": 11,
     "metadata": {},
     "output_type": "execute_result"
    }
   ],
   "source": [
    "#exports the dataframe to sqlite\n",
    "data_df.to_sql('crime_test', conn, if_exists='replace', index = False)"
   ]
  },
  {
   "cell_type": "code",
   "execution_count": 12,
   "id": "78997b49-d61a-49f5-aa8b-da6e696a6b06",
   "metadata": {},
   "outputs": [
    {
     "data": {
      "text/plain": [
       "<sqlite3.Cursor at 0x19dccd528f0>"
      ]
     },
     "execution_count": 12,
     "metadata": {},
     "output_type": "execute_result"
    }
   ],
   "source": [
    "c.execute('''select * from crime_test''')"
   ]
  },
  {
   "cell_type": "code",
   "execution_count": 13,
   "id": "80da8ed7-9b5d-454d-bb53-e8f11e819ea0",
   "metadata": {},
   "outputs": [
    {
     "name": "stdout",
     "output_type": "stream",
     "text": [
      "('202924-2022', '22-032078', '2022-11-09', '00:30', 'Outdoor Area Public/Private', '1400 E JEFFERSON BLVD', '75203', 'Male', 'Yes', 'Methamphetamine', '33')\n"
     ]
    }
   ],
   "source": [
    "#viewing most recent row of the table\n",
    "for row in c.fetchall():\n",
    "    print(row)\n",
    "    break"
   ]
  },
  {
   "cell_type": "code",
   "execution_count": null,
   "id": "058735a8-f1f5-47b0-9b4a-47637808e9d2",
   "metadata": {},
   "outputs": [],
   "source": []
  },
  {
   "cell_type": "code",
   "execution_count": null,
   "id": "effd18b0-3390-4a6b-b23e-64400cce7db7",
   "metadata": {},
   "outputs": [],
   "source": [
    "#decrease the amount of data to filter by today or past week, month, and year\n",
    "#creating the variables to filter through the df's\n",
    "today = datetime.date.today()\n",
    "week = today - datetime.timedelta(days=7)\n",
    "month = today - datetime.timedelta(days=30)\n",
    "year = (today - datetime.timedelta(days=365)).strftime('%Y-%m-%d')\n",
    "today = today.strftime('%Y-%m-%d')\n",
    "week = week.strftime('%Y-%m-%d')\n",
    "month = month.strftime('%Y-%m-%d')"
   ]
  },
  {
   "cell_type": "code",
   "execution_count": null,
   "id": "fcffcefe-df4b-4997-ab22-47cd896c5978",
   "metadata": {},
   "outputs": [],
   "source": [
    "#filter through the dataframes descending to not constantly work with big data for each filter\n",
    "year_df = data_df[(data_df['ararrestdate'] >= year)]\n",
    "month_df = year_df[(year_df['ararrestdate'] >= month)]\n",
    "week_df = month_df[(month_df['ararrestdate'] >= week)]\n",
    "today_df = week_df[(week_df['ararrestdate'] >= today)]"
   ]
  },
  {
   "cell_type": "code",
   "execution_count": null,
   "id": "7f51bf90-598c-43cc-8d92-3bfad969ddb6",
   "metadata": {},
   "outputs": [],
   "source": [
    "week_df"
   ]
  },
  {
   "cell_type": "code",
   "execution_count": null,
   "id": "7d1b5136-9393-4527-92af-af163d344498",
   "metadata": {},
   "outputs": [],
   "source": [
    "from geopy.geocoders import Nominatim\n"
   ]
  },
  {
   "cell_type": "code",
   "execution_count": null,
   "id": "d8d6d744-98ef-4882-b101-ace0f772801d",
   "metadata": {},
   "outputs": [],
   "source": [
    "geolocator = Nominatim(user_agent=\"test_crime_data_app\")\n",
    "location = geolocator.geocode(\"8550 N STEMMONS SERV NB\")\n",
    "\n",
    "print((location.latitude, location.longitude))"
   ]
  },
  {
   "cell_type": "code",
   "execution_count": null,
   "id": "48618b73-f47d-4212-a323-0150b6ab7a21",
   "metadata": {},
   "outputs": [],
   "source": [
    "# loop through each rows address and zip code, IF address + zip code gives lat/long append, \n",
    "#ELIF address gives lat/long append, elif get zip code lat/lng, else no zip/address put NaN for lat/lng\n",
    "lat_lngs = {'lat':[],'lng':[]}"
   ]
  },
  {
   "cell_type": "code",
   "execution_count": null,
   "id": "ed526e0f-40d4-49ea-b2d6-f82b1402510f",
   "metadata": {},
   "outputs": [],
   "source": [
    "#retrieving lat and longs for leaflet maps\n",
    "for index, row in year_df.iterrows():\n",
    "    test = ''\n",
    "    test += row['arladdress']\n",
    "    test += ' ' + row['arlzip']\n",
    "    try:\n",
    "        location = geolocator.geocode(test)\n",
    "        lat_lngs['lat'].append(location.latitude)\n",
    "        lat_lngs['lng'].append(location.longitude)\n",
    "    except:\n",
    "        try:\n",
    "            test = test[:-5]\n",
    "            location = geolocator.geocode(test)\n",
    "            lat_lngs['lat'].append(location.latitude)\n",
    "            lat_lngs['lng'].append(location.longitude)\n",
    "        except:\n",
    "            try:\n",
    "                location = geolocator.geocode(row['arlzip'])\n",
    "                lat_lngs['lat'].append(location.latitude)\n",
    "                lat_lngs['lng'].append(location.longitude)\n",
    "            except:\n",
    "                location = ['NaN', 'Nan']\n",
    "                lat_lngs['lat'].append(location.latitude)\n",
    "                lat_lngs['lng'].append(location.longitude)"
   ]
  },
  {
   "cell_type": "code",
   "execution_count": null,
   "id": "b4857873-dac2-4949-ad43-04a91d149066",
   "metadata": {},
   "outputs": [],
   "source": [
    "lat_lng_df = pd.DataFrame(lat_lngs)"
   ]
  },
  {
   "cell_type": "code",
   "execution_count": null,
   "id": "6708e590-a61d-4f8a-9749-167e103cbdac",
   "metadata": {},
   "outputs": [],
   "source": [
    "year_df.reset_index(inplace=True)"
   ]
  },
  {
   "cell_type": "code",
   "execution_count": null,
   "id": "f8e3e701-839a-4b46-a3a6-05b8edb80c5f",
   "metadata": {},
   "outputs": [],
   "source": []
  },
  {
   "cell_type": "code",
   "execution_count": null,
   "id": "8aa69e53-c706-4a32-8a52-5b93171ec006",
   "metadata": {},
   "outputs": [],
   "source": [
    "week_df.reset_index(inplace=True)"
   ]
  },
  {
   "cell_type": "code",
   "execution_count": null,
   "id": "0f91ebc1-d3bc-4700-846c-4d5230ed3e28",
   "metadata": {},
   "outputs": [],
   "source": [
    "week_df.head()"
   ]
  },
  {
   "cell_type": "code",
   "execution_count": null,
   "id": "11bfd820-d367-4b51-84a7-1d80b1a4fb2b",
   "metadata": {},
   "outputs": [],
   "source": [
    "merged = pd.concat([year_df, lat_lng_df],axis=1)"
   ]
  },
  {
   "cell_type": "code",
   "execution_count": null,
   "id": "09b8ee87-4dd7-4c97-b246-6a3e3c7d84d4",
   "metadata": {},
   "outputs": [],
   "source": [
    "test_df = merged.loc[merged['lat'] == 'NaN']"
   ]
  },
  {
   "cell_type": "code",
   "execution_count": null,
   "id": "37b60760-64e8-46b8-abe1-158ef6ad3a77",
   "metadata": {},
   "outputs": [],
   "source": [
    "merged.head()"
   ]
  },
  {
   "cell_type": "code",
   "execution_count": null,
   "id": "eba122dc-6b11-422c-872b-bdfb07227404",
   "metadata": {},
   "outputs": [],
   "source": []
  }
 ],
 "metadata": {
  "kernelspec": {
   "display_name": "Python 3 (ipykernel)",
   "language": "python",
   "name": "python3"
  },
  "language_info": {
   "codemirror_mode": {
    "name": "ipython",
    "version": 3
   },
   "file_extension": ".py",
   "mimetype": "text/x-python",
   "name": "python",
   "nbconvert_exporter": "python",
   "pygments_lexer": "ipython3",
   "version": "3.9.12"
  }
 },
 "nbformat": 4,
 "nbformat_minor": 5
}
